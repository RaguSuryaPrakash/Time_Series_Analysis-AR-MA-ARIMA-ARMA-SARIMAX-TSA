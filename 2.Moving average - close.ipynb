{
 "cells": [
  {
   "cell_type": "code",
   "execution_count": 1,
   "id": "aac83889",
   "metadata": {},
   "outputs": [],
   "source": [
    "import pandas as pd\n",
    "import datetime as dt\n",
    "import yfinance as yf\n",
    "from sklearn.preprocessing import MinMaxScaler\n",
    "from sklearn.metrics import mean_squared_error\n",
    "from statsmodels.tsa.arima.model import ARIMA"
   ]
  },
  {
   "cell_type": "code",
   "execution_count": 2,
   "id": "a0059b1f",
   "metadata": {},
   "outputs": [
    {
     "name": "stderr",
     "output_type": "stream",
     "text": [
      "[*********************100%%**********************]  1 of 1 completed\n"
     ]
    }
   ],
   "source": [
    "# Fetching data\n",
    "start = dt.datetime(2021, 7, 1)\n",
    "end = dt.datetime(2022, 1, 27)\n",
    "symbol = 'AXISBANK.NS'\n",
    "stk_data = yf.download(symbol, start=start, end=end)"
   ]
  },
  {
   "cell_type": "code",
   "execution_count": 3,
   "id": "136ebb51",
   "metadata": {},
   "outputs": [],
   "source": [
    "# Selecting specific columns\n",
    "stk_data = stk_data[[\"Open\", \"High\", \"Low\", \"Close\"]]"
   ]
  },
  {
   "cell_type": "code",
   "execution_count": 4,
   "id": "ca7c482f",
   "metadata": {},
   "outputs": [
    {
     "data": {
      "text/html": [
       "<div>\n",
       "<style scoped>\n",
       "    .dataframe tbody tr th:only-of-type {\n",
       "        vertical-align: middle;\n",
       "    }\n",
       "\n",
       "    .dataframe tbody tr th {\n",
       "        vertical-align: top;\n",
       "    }\n",
       "\n",
       "    .dataframe thead th {\n",
       "        text-align: right;\n",
       "    }\n",
       "</style>\n",
       "<table border=\"1\" class=\"dataframe\">\n",
       "  <thead>\n",
       "    <tr style=\"text-align: right;\">\n",
       "      <th></th>\n",
       "      <th>Open</th>\n",
       "      <th>High</th>\n",
       "      <th>Low</th>\n",
       "      <th>Close</th>\n",
       "    </tr>\n",
       "    <tr>\n",
       "      <th>Date</th>\n",
       "      <th></th>\n",
       "      <th></th>\n",
       "      <th></th>\n",
       "      <th></th>\n",
       "    </tr>\n",
       "  </thead>\n",
       "  <tbody>\n",
       "    <tr>\n",
       "      <th>2021-07-01</th>\n",
       "      <td>750.000000</td>\n",
       "      <td>754.400024</td>\n",
       "      <td>744.500000</td>\n",
       "      <td>746.450012</td>\n",
       "    </tr>\n",
       "    <tr>\n",
       "      <th>2021-07-02</th>\n",
       "      <td>747.599976</td>\n",
       "      <td>752.849976</td>\n",
       "      <td>744.000000</td>\n",
       "      <td>750.650024</td>\n",
       "    </tr>\n",
       "    <tr>\n",
       "      <th>2021-07-05</th>\n",
       "      <td>757.099976</td>\n",
       "      <td>762.000000</td>\n",
       "      <td>753.400024</td>\n",
       "      <td>760.349976</td>\n",
       "    </tr>\n",
       "    <tr>\n",
       "      <th>2021-07-06</th>\n",
       "      <td>757.000000</td>\n",
       "      <td>767.000000</td>\n",
       "      <td>755.200012</td>\n",
       "      <td>758.349976</td>\n",
       "    </tr>\n",
       "    <tr>\n",
       "      <th>2021-07-07</th>\n",
       "      <td>755.900024</td>\n",
       "      <td>764.000000</td>\n",
       "      <td>752.250000</td>\n",
       "      <td>762.900024</td>\n",
       "    </tr>\n",
       "    <tr>\n",
       "      <th>...</th>\n",
       "      <td>...</td>\n",
       "      <td>...</td>\n",
       "      <td>...</td>\n",
       "      <td>...</td>\n",
       "    </tr>\n",
       "    <tr>\n",
       "      <th>2022-01-19</th>\n",
       "      <td>725.200012</td>\n",
       "      <td>731.950012</td>\n",
       "      <td>718.700012</td>\n",
       "      <td>729.599976</td>\n",
       "    </tr>\n",
       "    <tr>\n",
       "      <th>2022-01-20</th>\n",
       "      <td>731.049988</td>\n",
       "      <td>737.150024</td>\n",
       "      <td>722.150024</td>\n",
       "      <td>728.900024</td>\n",
       "    </tr>\n",
       "    <tr>\n",
       "      <th>2022-01-21</th>\n",
       "      <td>722.000000</td>\n",
       "      <td>725.250000</td>\n",
       "      <td>708.049988</td>\n",
       "      <td>712.500000</td>\n",
       "    </tr>\n",
       "    <tr>\n",
       "      <th>2022-01-24</th>\n",
       "      <td>715.000000</td>\n",
       "      <td>716.400024</td>\n",
       "      <td>688.200012</td>\n",
       "      <td>704.599976</td>\n",
       "    </tr>\n",
       "    <tr>\n",
       "      <th>2022-01-25</th>\n",
       "      <td>714.000000</td>\n",
       "      <td>755.000000</td>\n",
       "      <td>708.599976</td>\n",
       "      <td>752.200012</td>\n",
       "    </tr>\n",
       "  </tbody>\n",
       "</table>\n",
       "<p>143 rows × 4 columns</p>\n",
       "</div>"
      ],
      "text/plain": [
       "                  Open        High         Low       Close\n",
       "Date                                                      \n",
       "2021-07-01  750.000000  754.400024  744.500000  746.450012\n",
       "2021-07-02  747.599976  752.849976  744.000000  750.650024\n",
       "2021-07-05  757.099976  762.000000  753.400024  760.349976\n",
       "2021-07-06  757.000000  767.000000  755.200012  758.349976\n",
       "2021-07-07  755.900024  764.000000  752.250000  762.900024\n",
       "...                ...         ...         ...         ...\n",
       "2022-01-19  725.200012  731.950012  718.700012  729.599976\n",
       "2022-01-20  731.049988  737.150024  722.150024  728.900024\n",
       "2022-01-21  722.000000  725.250000  708.049988  712.500000\n",
       "2022-01-24  715.000000  716.400024  688.200012  704.599976\n",
       "2022-01-25  714.000000  755.000000  708.599976  752.200012\n",
       "\n",
       "[143 rows x 4 columns]"
      ]
     },
     "execution_count": 4,
     "metadata": {},
     "output_type": "execute_result"
    }
   ],
   "source": [
    "stk_data"
   ]
  },
  {
   "cell_type": "code",
   "execution_count": 5,
   "id": "a2418527",
   "metadata": {},
   "outputs": [
    {
     "name": "stdout",
     "output_type": "stream",
     "text": [
      "<class 'pandas.core.frame.DataFrame'>\n",
      "DatetimeIndex: 143 entries, 2021-07-01 to 2022-01-25\n",
      "Data columns (total 4 columns):\n",
      " #   Column  Non-Null Count  Dtype  \n",
      "---  ------  --------------  -----  \n",
      " 0   Open    143 non-null    float64\n",
      " 1   High    143 non-null    float64\n",
      " 2   Low     143 non-null    float64\n",
      " 3   Close   143 non-null    float64\n",
      "dtypes: float64(4)\n",
      "memory usage: 5.6 KB\n"
     ]
    }
   ],
   "source": [
    "stk_data.info()"
   ]
  },
  {
   "cell_type": "code",
   "execution_count": 6,
   "id": "0ebcc18e",
   "metadata": {},
   "outputs": [],
   "source": [
    "# Scaling data\n",
    "column = \"Close\"\n",
    "MS = MinMaxScaler()\n",
    "data1 = MS.fit_transform(stk_data[[column]])"
   ]
  },
  {
   "cell_type": "code",
   "execution_count": 7,
   "id": "3e779022",
   "metadata": {},
   "outputs": [],
   "source": [
    "# Splitting the data into train and test sets\n",
    "training_size = round(len(data1) * 0.80)\n",
    "X_train = data1[:training_size]\n",
    "X_test = data1[training_size:]\n",
    "y_train = data1[:training_size]\n",
    "y_test = data1[training_size:]"
   ]
  },
  {
   "cell_type": "code",
   "execution_count": 8,
   "id": "a6a4113c",
   "metadata": {},
   "outputs": [],
   "source": [
    "import warnings\n",
    "warnings.filterwarnings(\"ignore\")"
   ]
  },
  {
   "cell_type": "code",
   "execution_count": 9,
   "id": "980f957a",
   "metadata": {},
   "outputs": [],
   "source": [
    "# Define trends and lags\n",
    "trends = ['n', 't', 'c', 'ct']\n",
    "orders = [(0,0,1),(0,0,2)]"
   ]
  },
  {
   "cell_type": "code",
   "execution_count": 10,
   "id": "974bf26b",
   "metadata": {},
   "outputs": [],
   "source": [
    "# Function to calculate RMSE and MAPE\n",
    "def rmsemape(actual, predicted):\n",
    "    mse = mean_squared_error(actual, predicted, squared=False)\n",
    "    print(f\"RMSE: {mse}\")\n",
    "    mape = np.mean(np.abs((actual - predicted) / actual)) * 100\n",
    "    print(f\"MAPE: {mape}%\")\n",
    "    return mse, mape"
   ]
  },
  {
   "cell_type": "code",
   "execution_count": 11,
   "id": "95521949",
   "metadata": {},
   "outputs": [
    {
     "name": "stdout",
     "output_type": "stream",
     "text": [
      "Trend=n\n",
      "RMSE: 0.3109747688661381\n",
      "MAPE: 93.62732637394313%\n",
      "****\n",
      "Trend=t\n",
      "RMSE: 0.46220739664387733\n",
      "MAPE: 276.8433235768873%\n",
      "****\n",
      "Trend=c\n",
      "RMSE: 0.2598502523485934\n",
      "MAPE: 165.8911206094718%\n",
      "****\n",
      "Trend=ct\n",
      "RMSE: 0.16127108384575808\n",
      "MAPE: 92.20708234394439%\n",
      "****\n"
     ]
    }
   ],
   "source": [
    "# Training and evaluating models\n",
    "import numpy as np\n",
    "#for i in orders:\n",
    "for td in trends:\n",
    "    model = ARIMA(X_train,order=(0,0,10),trend=td)\n",
    "    model_fit = model.fit()\n",
    "    y_pred = model_fit.predict(len(X_train), len(data1) - 1)\n",
    "    print(f\"Trend={td}\")\n",
    "    rmsemape(y_test, y_pred)\n",
    "    print(\"****\")"
   ]
  },
  {
   "cell_type": "code",
   "execution_count": 12,
   "id": "50e856c7",
   "metadata": {},
   "outputs": [],
   "source": [
    "# Forecasting\n",
    "i = (0,0,1)\n",
    "td = 'ct'\n",
    "model = ARIMA(X_train, order=i, trend=td)\n",
    "model_fit = model.fit()\n",
    "y_pred = model_fit.predict(len(X_train), len(data1) - 1)"
   ]
  },
  {
   "cell_type": "code",
   "execution_count": 13,
   "id": "a11406a5",
   "metadata": {},
   "outputs": [],
   "source": [
    "# Inverse transform the scaled data\n",
    "aTestNormTable = pd.DataFrame(y_test, columns=[column])\n",
    "actual_stock_price_test_ori = MS.inverse_transform(aTestNormTable)\n",
    "actual_stock_price_test_oriA = pd.DataFrame(actual_stock_price_test_ori, columns=[column])"
   ]
  },
  {
   "cell_type": "code",
   "execution_count": 14,
   "id": "f7bca0ca",
   "metadata": {},
   "outputs": [
    {
     "data": {
      "text/html": [
       "<div>\n",
       "<style scoped>\n",
       "    .dataframe tbody tr th:only-of-type {\n",
       "        vertical-align: middle;\n",
       "    }\n",
       "\n",
       "    .dataframe tbody tr th {\n",
       "        vertical-align: top;\n",
       "    }\n",
       "\n",
       "    .dataframe thead th {\n",
       "        text-align: right;\n",
       "    }\n",
       "</style>\n",
       "<table border=\"1\" class=\"dataframe\">\n",
       "  <thead>\n",
       "    <tr style=\"text-align: right;\">\n",
       "      <th></th>\n",
       "      <th>Close</th>\n",
       "    </tr>\n",
       "  </thead>\n",
       "  <tbody>\n",
       "    <tr>\n",
       "      <th>0</th>\n",
       "      <td>709.650024</td>\n",
       "    </tr>\n",
       "    <tr>\n",
       "      <th>1</th>\n",
       "      <td>688.900024</td>\n",
       "    </tr>\n",
       "    <tr>\n",
       "      <th>2</th>\n",
       "      <td>674.349976</td>\n",
       "    </tr>\n",
       "    <tr>\n",
       "      <th>3</th>\n",
       "      <td>665.849976</td>\n",
       "    </tr>\n",
       "    <tr>\n",
       "      <th>4</th>\n",
       "      <td>669.349976</td>\n",
       "    </tr>\n",
       "    <tr>\n",
       "      <th>5</th>\n",
       "      <td>678.799988</td>\n",
       "    </tr>\n",
       "    <tr>\n",
       "      <th>6</th>\n",
       "      <td>667.500000</td>\n",
       "    </tr>\n",
       "    <tr>\n",
       "      <th>7</th>\n",
       "      <td>672.150024</td>\n",
       "    </tr>\n",
       "    <tr>\n",
       "      <th>8</th>\n",
       "      <td>675.450012</td>\n",
       "    </tr>\n",
       "    <tr>\n",
       "      <th>9</th>\n",
       "      <td>670.500000</td>\n",
       "    </tr>\n",
       "    <tr>\n",
       "      <th>10</th>\n",
       "      <td>668.849976</td>\n",
       "    </tr>\n",
       "    <tr>\n",
       "      <th>11</th>\n",
       "      <td>678.549988</td>\n",
       "    </tr>\n",
       "    <tr>\n",
       "      <th>12</th>\n",
       "      <td>696.349976</td>\n",
       "    </tr>\n",
       "    <tr>\n",
       "      <th>13</th>\n",
       "      <td>709.150024</td>\n",
       "    </tr>\n",
       "    <tr>\n",
       "      <th>14</th>\n",
       "      <td>726.900024</td>\n",
       "    </tr>\n",
       "    <tr>\n",
       "      <th>15</th>\n",
       "      <td>730.299988</td>\n",
       "    </tr>\n",
       "    <tr>\n",
       "      <th>16</th>\n",
       "      <td>730.599976</td>\n",
       "    </tr>\n",
       "    <tr>\n",
       "      <th>17</th>\n",
       "      <td>742.799988</td>\n",
       "    </tr>\n",
       "    <tr>\n",
       "      <th>18</th>\n",
       "      <td>743.250000</td>\n",
       "    </tr>\n",
       "    <tr>\n",
       "      <th>19</th>\n",
       "      <td>746.849976</td>\n",
       "    </tr>\n",
       "    <tr>\n",
       "      <th>20</th>\n",
       "      <td>740.700012</td>\n",
       "    </tr>\n",
       "    <tr>\n",
       "      <th>21</th>\n",
       "      <td>721.700012</td>\n",
       "    </tr>\n",
       "    <tr>\n",
       "      <th>22</th>\n",
       "      <td>712.650024</td>\n",
       "    </tr>\n",
       "    <tr>\n",
       "      <th>23</th>\n",
       "      <td>725.200012</td>\n",
       "    </tr>\n",
       "    <tr>\n",
       "      <th>24</th>\n",
       "      <td>729.599976</td>\n",
       "    </tr>\n",
       "    <tr>\n",
       "      <th>25</th>\n",
       "      <td>728.900024</td>\n",
       "    </tr>\n",
       "    <tr>\n",
       "      <th>26</th>\n",
       "      <td>712.500000</td>\n",
       "    </tr>\n",
       "    <tr>\n",
       "      <th>27</th>\n",
       "      <td>704.599976</td>\n",
       "    </tr>\n",
       "    <tr>\n",
       "      <th>28</th>\n",
       "      <td>752.200012</td>\n",
       "    </tr>\n",
       "  </tbody>\n",
       "</table>\n",
       "</div>"
      ],
      "text/plain": [
       "         Close\n",
       "0   709.650024\n",
       "1   688.900024\n",
       "2   674.349976\n",
       "3   665.849976\n",
       "4   669.349976\n",
       "5   678.799988\n",
       "6   667.500000\n",
       "7   672.150024\n",
       "8   675.450012\n",
       "9   670.500000\n",
       "10  668.849976\n",
       "11  678.549988\n",
       "12  696.349976\n",
       "13  709.150024\n",
       "14  726.900024\n",
       "15  730.299988\n",
       "16  730.599976\n",
       "17  742.799988\n",
       "18  743.250000\n",
       "19  746.849976\n",
       "20  740.700012\n",
       "21  721.700012\n",
       "22  712.650024\n",
       "23  725.200012\n",
       "24  729.599976\n",
       "25  728.900024\n",
       "26  712.500000\n",
       "27  704.599976\n",
       "28  752.200012"
      ]
     },
     "execution_count": 14,
     "metadata": {},
     "output_type": "execute_result"
    }
   ],
   "source": [
    "actual_stock_price_test_oriA"
   ]
  },
  {
   "cell_type": "code",
   "execution_count": 15,
   "id": "9a4e8626",
   "metadata": {},
   "outputs": [],
   "source": [
    "pTestNormTable = pd.DataFrame(y_pred, columns=[column])\n",
    "predicted_stock_price_test_ori = MS.inverse_transform(pTestNormTable)\n",
    "predicted_stock_price_test_oriP = pd.DataFrame(predicted_stock_price_test_ori, columns=[column])"
   ]
  },
  {
   "cell_type": "code",
   "execution_count": 16,
   "id": "9b94921b",
   "metadata": {},
   "outputs": [
    {
     "data": {
      "text/html": [
       "<div>\n",
       "<style scoped>\n",
       "    .dataframe tbody tr th:only-of-type {\n",
       "        vertical-align: middle;\n",
       "    }\n",
       "\n",
       "    .dataframe tbody tr th {\n",
       "        vertical-align: top;\n",
       "    }\n",
       "\n",
       "    .dataframe thead th {\n",
       "        text-align: right;\n",
       "    }\n",
       "</style>\n",
       "<table border=\"1\" class=\"dataframe\">\n",
       "  <thead>\n",
       "    <tr style=\"text-align: right;\">\n",
       "      <th></th>\n",
       "      <th>Close</th>\n",
       "    </tr>\n",
       "  </thead>\n",
       "  <tbody>\n",
       "    <tr>\n",
       "      <th>0</th>\n",
       "      <td>728.959532</td>\n",
       "    </tr>\n",
       "    <tr>\n",
       "      <th>1</th>\n",
       "      <td>728.592788</td>\n",
       "    </tr>\n",
       "    <tr>\n",
       "      <th>2</th>\n",
       "      <td>728.151260</td>\n",
       "    </tr>\n",
       "    <tr>\n",
       "      <th>3</th>\n",
       "      <td>727.709732</td>\n",
       "    </tr>\n",
       "    <tr>\n",
       "      <th>4</th>\n",
       "      <td>727.268203</td>\n",
       "    </tr>\n",
       "    <tr>\n",
       "      <th>5</th>\n",
       "      <td>726.826675</td>\n",
       "    </tr>\n",
       "    <tr>\n",
       "      <th>6</th>\n",
       "      <td>726.385147</td>\n",
       "    </tr>\n",
       "    <tr>\n",
       "      <th>7</th>\n",
       "      <td>725.943619</td>\n",
       "    </tr>\n",
       "    <tr>\n",
       "      <th>8</th>\n",
       "      <td>725.502090</td>\n",
       "    </tr>\n",
       "    <tr>\n",
       "      <th>9</th>\n",
       "      <td>725.060562</td>\n",
       "    </tr>\n",
       "    <tr>\n",
       "      <th>10</th>\n",
       "      <td>724.619034</td>\n",
       "    </tr>\n",
       "    <tr>\n",
       "      <th>11</th>\n",
       "      <td>724.177506</td>\n",
       "    </tr>\n",
       "    <tr>\n",
       "      <th>12</th>\n",
       "      <td>723.735978</td>\n",
       "    </tr>\n",
       "    <tr>\n",
       "      <th>13</th>\n",
       "      <td>723.294449</td>\n",
       "    </tr>\n",
       "    <tr>\n",
       "      <th>14</th>\n",
       "      <td>722.852921</td>\n",
       "    </tr>\n",
       "    <tr>\n",
       "      <th>15</th>\n",
       "      <td>722.411393</td>\n",
       "    </tr>\n",
       "    <tr>\n",
       "      <th>16</th>\n",
       "      <td>721.969865</td>\n",
       "    </tr>\n",
       "    <tr>\n",
       "      <th>17</th>\n",
       "      <td>721.528336</td>\n",
       "    </tr>\n",
       "    <tr>\n",
       "      <th>18</th>\n",
       "      <td>721.086808</td>\n",
       "    </tr>\n",
       "    <tr>\n",
       "      <th>19</th>\n",
       "      <td>720.645280</td>\n",
       "    </tr>\n",
       "    <tr>\n",
       "      <th>20</th>\n",
       "      <td>720.203752</td>\n",
       "    </tr>\n",
       "    <tr>\n",
       "      <th>21</th>\n",
       "      <td>719.762223</td>\n",
       "    </tr>\n",
       "    <tr>\n",
       "      <th>22</th>\n",
       "      <td>719.320695</td>\n",
       "    </tr>\n",
       "    <tr>\n",
       "      <th>23</th>\n",
       "      <td>718.879167</td>\n",
       "    </tr>\n",
       "    <tr>\n",
       "      <th>24</th>\n",
       "      <td>718.437639</td>\n",
       "    </tr>\n",
       "    <tr>\n",
       "      <th>25</th>\n",
       "      <td>717.996111</td>\n",
       "    </tr>\n",
       "    <tr>\n",
       "      <th>26</th>\n",
       "      <td>717.554582</td>\n",
       "    </tr>\n",
       "    <tr>\n",
       "      <th>27</th>\n",
       "      <td>717.113054</td>\n",
       "    </tr>\n",
       "    <tr>\n",
       "      <th>28</th>\n",
       "      <td>716.671526</td>\n",
       "    </tr>\n",
       "  </tbody>\n",
       "</table>\n",
       "</div>"
      ],
      "text/plain": [
       "         Close\n",
       "0   728.959532\n",
       "1   728.592788\n",
       "2   728.151260\n",
       "3   727.709732\n",
       "4   727.268203\n",
       "5   726.826675\n",
       "6   726.385147\n",
       "7   725.943619\n",
       "8   725.502090\n",
       "9   725.060562\n",
       "10  724.619034\n",
       "11  724.177506\n",
       "12  723.735978\n",
       "13  723.294449\n",
       "14  722.852921\n",
       "15  722.411393\n",
       "16  721.969865\n",
       "17  721.528336\n",
       "18  721.086808\n",
       "19  720.645280\n",
       "20  720.203752\n",
       "21  719.762223\n",
       "22  719.320695\n",
       "23  718.879167\n",
       "24  718.437639\n",
       "25  717.996111\n",
       "26  717.554582\n",
       "27  717.113054\n",
       "28  716.671526"
      ]
     },
     "execution_count": 16,
     "metadata": {},
     "output_type": "execute_result"
    }
   ],
   "source": [
    "predicted_stock_price_test_oriP"
   ]
  },
  {
   "cell_type": "code",
   "execution_count": 17,
   "id": "b1499833",
   "metadata": {},
   "outputs": [
    {
     "data": {
      "image/png": "[encoded data removed]",
      "text/plain": [
       "<Figure size 1000x500 with 1 Axes>"
      ]
     },
     "metadata": {},
     "output_type": "display_data"
    }
   ],
   "source": [
    "# Plotting actual vs predicted prices\n",
    "import matplotlib.pyplot as plt\n",
    "\n",
    "plt.figure(figsize=(10, 5))\n",
    "plt.plot(actual_stock_price_test_oriA.values, color='blue', label=\"Actual\")\n",
    "plt.plot(predicted_stock_price_test_oriP.values, color='red', label=\"Predicted\")\n",
    "plt.legend()\n",
    "plt.title(\"Actual vs Predicted Stock Prices\")\n",
    "plt.xlabel(\"Days\")\n",
    "plt.ylabel(\"Prices\")\n",
    "plt.show()"
   ]
  },
  {
   "cell_type": "code",
   "execution_count": 18,
   "id": "79a113bb",
   "metadata": {},
   "outputs": [],
   "source": [
    "# Forecasting future prices\n",
    "forecast = model_fit.predict(len(data1), len(data1) + 3)\n",
    "fTestNormTable = pd.DataFrame(forecast, columns=[\"Closefore\"])\n",
    "forecast_stock_price_test_ori = MS.inverse_transform(fTestNormTable)\n",
    "forecast_stock_price_test_oriF = pd.DataFrame(forecast_stock_price_test_ori, columns=[\"Closefore\"])"
   ]
  },
  {
   "cell_type": "code",
   "execution_count": 19,
   "id": "142f32eb",
   "metadata": {},
   "outputs": [
    {
     "data": {
      "text/plain": [
       "array([0.33572176, 0.33344584, 0.33116993, 0.32889401])"
      ]
     },
     "execution_count": 19,
     "metadata": {},
     "output_type": "execute_result"
    }
   ],
   "source": [
    "forecast"
   ]
  },
  {
   "cell_type": "code",
   "execution_count": 20,
   "id": "4b0f1736",
   "metadata": {},
   "outputs": [
    {
     "data": {
      "text/html": [
       "<div>\n",
       "<style scoped>\n",
       "    .dataframe tbody tr th:only-of-type {\n",
       "        vertical-align: middle;\n",
       "    }\n",
       "\n",
       "    .dataframe tbody tr th {\n",
       "        vertical-align: top;\n",
       "    }\n",
       "\n",
       "    .dataframe thead th {\n",
       "        text-align: right;\n",
       "    }\n",
       "</style>\n",
       "<table border=\"1\" class=\"dataframe\">\n",
       "  <thead>\n",
       "    <tr style=\"text-align: right;\">\n",
       "      <th></th>\n",
       "      <th>Closefore</th>\n",
       "    </tr>\n",
       "  </thead>\n",
       "  <tbody>\n",
       "    <tr>\n",
       "      <th>0</th>\n",
       "      <td>0.335722</td>\n",
       "    </tr>\n",
       "    <tr>\n",
       "      <th>1</th>\n",
       "      <td>0.333446</td>\n",
       "    </tr>\n",
       "    <tr>\n",
       "      <th>2</th>\n",
       "      <td>0.331170</td>\n",
       "    </tr>\n",
       "    <tr>\n",
       "      <th>3</th>\n",
       "      <td>0.328894</td>\n",
       "    </tr>\n",
       "  </tbody>\n",
       "</table>\n",
       "</div>"
      ],
      "text/plain": [
       "   Closefore\n",
       "0   0.335722\n",
       "1   0.333446\n",
       "2   0.331170\n",
       "3   0.328894"
      ]
     },
     "execution_count": 20,
     "metadata": {},
     "output_type": "execute_result"
    }
   ],
   "source": [
    "fTestNormTable"
   ]
  },
  {
   "cell_type": "code",
   "execution_count": 21,
   "id": "fc0593d1",
   "metadata": {},
   "outputs": [
    {
     "data": {
      "text/plain": [
       "array([[716.22999761],\n",
       "       [715.78846938],\n",
       "       [715.34694114],\n",
       "       [714.90541291]])"
      ]
     },
     "execution_count": 21,
     "metadata": {},
     "output_type": "execute_result"
    }
   ],
   "source": [
    "forecast_stock_price_test_ori"
   ]
  },
  {
   "cell_type": "code",
   "execution_count": 22,
   "id": "3568be52",
   "metadata": {},
   "outputs": [
    {
     "data": {
      "text/html": [
       "<div>\n",
       "<style scoped>\n",
       "    .dataframe tbody tr th:only-of-type {\n",
       "        vertical-align: middle;\n",
       "    }\n",
       "\n",
       "    .dataframe tbody tr th {\n",
       "        vertical-align: top;\n",
       "    }\n",
       "\n",
       "    .dataframe thead th {\n",
       "        text-align: right;\n",
       "    }\n",
       "</style>\n",
       "<table border=\"1\" class=\"dataframe\">\n",
       "  <thead>\n",
       "    <tr style=\"text-align: right;\">\n",
       "      <th></th>\n",
       "      <th>Closefore</th>\n",
       "    </tr>\n",
       "  </thead>\n",
       "  <tbody>\n",
       "    <tr>\n",
       "      <th>0</th>\n",
       "      <td>716.229998</td>\n",
       "    </tr>\n",
       "    <tr>\n",
       "      <th>1</th>\n",
       "      <td>715.788469</td>\n",
       "    </tr>\n",
       "    <tr>\n",
       "      <th>2</th>\n",
       "      <td>715.346941</td>\n",
       "    </tr>\n",
       "    <tr>\n",
       "      <th>3</th>\n",
       "      <td>714.905413</td>\n",
       "    </tr>\n",
       "  </tbody>\n",
       "</table>\n",
       "</div>"
      ],
      "text/plain": [
       "    Closefore\n",
       "0  716.229998\n",
       "1  715.788469\n",
       "2  715.346941\n",
       "3  714.905413"
      ]
     },
     "execution_count": 22,
     "metadata": {},
     "output_type": "execute_result"
    }
   ],
   "source": [
    "forecast_stock_price_test_oriF"
   ]
  },
  {
   "cell_type": "code",
   "execution_count": 23,
   "id": "8ce1e952",
   "metadata": {},
   "outputs": [],
   "source": [
    "# Save forecasted prices to CSV\n",
    "forecast_stock_price_test_oriF.to_csv(\"CloseMA.csv\", index=False)"
   ]
  },
  {
   "cell_type": "code",
   "execution_count": 24,
   "id": "6e66d2ed",
   "metadata": {},
   "outputs": [
    {
     "data": {
      "text/plain": [
       "[<matplotlib.lines.Line2D at 0x1d6c42b5410>]"
      ]
     },
     "execution_count": 24,
     "metadata": {},
     "output_type": "execute_result"
    },
    {
     "data": {
      "image/png": "[encoded data removed]",
      "text/plain": [
       "<Figure size 1000x500 with 1 Axes>"
      ]
     },
     "metadata": {},
     "output_type": "display_data"
    }
   ],
   "source": [
    "import matplotlib.pyplot as plt\n",
    "plt.figure(figsize=(10,5))\n",
    "plt.plot(actual_stock_price_test_oriA[116:145], color = 'blue', label=\"Actual\")\n",
    "plt.plot(forecast_stock_price_test_oriF, color = 'red', label =\"Predicted\")"
   ]
  },
  {
   "cell_type": "code",
   "execution_count": null,
   "id": "ff5df38e",
   "metadata": {},
   "outputs": [],
   "source": []
  }
 ],
 "metadata": {
  "kernelspec": {
   "display_name": "Python 3 (ipykernel)",
   "language": "python",
   "name": "python3"
  },
  "language_info": {
   "codemirror_mode": {
    "name": "ipython",
    "version": 3
   },
   "file_extension": ".py",
   "mimetype": "text/x-python",
   "name": "python",
   "nbconvert_exporter": "python",
   "pygments_lexer": "ipython3",
   "version": "3.11.5"
  }
 },
 "nbformat": 4,
 "nbformat_minor": 5
}
